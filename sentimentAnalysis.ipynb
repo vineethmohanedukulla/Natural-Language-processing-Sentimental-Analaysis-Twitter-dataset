{
  "nbformat": 4,
  "nbformat_minor": 0,
  "metadata": {
    "colab": {
      "name": "sentimentAnalysis.ipynb",
      "provenance": [],
      "collapsed_sections": []
    },
    "kernelspec": {
      "name": "python3",
      "display_name": "Python 3"
    },
    "accelerator": "GPU"
  },
  "cells": [
    {
      "cell_type": "code",
      "metadata": {
        "id": "u70o2knoVDtt"
      },
      "source": [
        "import pandas as pd\n",
        "from keras.preprocessing.text import Tokenizer\n",
        "from keras.preprocessing.sequence import pad_sequences\n",
        "from keras.models import Sequential\n",
        "from keras.layers import Dense, Embedding, LSTM, SpatialDropout1D\n",
        "from matplotlib import pyplot\n",
        "from sklearn.model_selection import train_test_split\n",
        "from keras.utils.np_utils import to_categorical\n",
        "import re\n",
        "from sklearn.preprocessing import LabelEncoder"
      ],
      "execution_count": null,
      "outputs": []
    },
    {
      "cell_type": "code",
      "metadata": {
        "id": "ZVtPfKcXVKfy"
      },
      "source": [
        "data = pd.read_csv('/content/Sentiment.csv')\n",
        "data.head()"
      ],
      "execution_count": null,
      "outputs": []
    },
    {
      "cell_type": "code",
      "metadata": {
        "id": "tvRLtGc0mEqI"
      },
      "source": [
        "print(data.groupby('sentiment').nunique())"
      ],
      "execution_count": null,
      "outputs": []
    },
    {
      "cell_type": "code",
      "metadata": {
        "id": "TWI8zdtzl3W8"
      },
      "source": [
        "# Keeping only the neccessary columns\n",
        "data = data[['text','sentiment']]\n",
        "data.head()"
      ],
      "execution_count": null,
      "outputs": []
    },
    {
      "cell_type": "code",
      "metadata": {
        "id": "B-1vLQxinCSC"
      },
      "source": [
        "print(data['text'][0])\n",
        "print(data['text'][1])\n",
        "print(data['text'][2])"
      ],
      "execution_count": null,
      "outputs": []
    },
    {
      "cell_type": "code",
      "metadata": {
        "id": "QZjgo8n7VQA1"
      },
      "source": [
        "data['text'] = data['text'].apply(lambda x: x.lower()) # all string to lowercase Read more about lambda() \"https://realpython.com/python-lambda/\"\n",
        "data['text'] = data['text'].apply((lambda x: re.sub('[^a-zA-z0-9\\s]', '', x))) # using regular expression preprocess the text by removing everything that is not [a-zA-z0-9\\s]"
      ],
      "execution_count": null,
      "outputs": []
    },
    {
      "cell_type": "code",
      "metadata": {
        "id": "rTvomLnKn4L0"
      },
      "source": [
        "print(data['text'][0])\n",
        "print(data['text'][1])\n",
        "print(data['text'][2])"
      ],
      "execution_count": null,
      "outputs": []
    },
    {
      "cell_type": "code",
      "metadata": {
        "id": "GvzWGl1rVRZY"
      },
      "source": [
        "for idx, row in data.iterrows(): # Iterate over DataFrame rows as (index, Series) pairs.\n",
        "    row[0] = row[0].replace('rt', '') # replace/ remove 'rt' in the start of the text"
      ],
      "execution_count": null,
      "outputs": []
    },
    {
      "cell_type": "code",
      "metadata": {
        "id": "3Gs3O8JdpROz"
      },
      "source": [
        "print(data['text'][0])\n",
        "print(data['text'][1])\n",
        "print(data['text'][2])"
      ],
      "execution_count": null,
      "outputs": []
    },
    {
      "cell_type": "code",
      "metadata": {
        "id": "rcn-Si3-VTMZ"
      },
      "source": [
        "max_fatures = 2000\n",
        "\n",
        "tokenizer = Tokenizer(num_words=max_fatures, split=' ')\n",
        "tokenizer.fit_on_texts(data['text'].values)"
      ],
      "execution_count": null,
      "outputs": []
    },
    {
      "cell_type": "code",
      "metadata": {
        "id": "boYFWpHOsdxE"
      },
      "source": [
        "# Transforms each text in texts to a sequence of integers.\n",
        "# Only top num_words-1 most frequent words will be taken into account. Only words known by the tokenizer will be taken into account.\n",
        "\n",
        "# Transforms each text in texts to a sequence of integers. \n",
        "# So it basically takes each word in the text and replaces it with its corresponding integer value from the word_index dictionary.\n",
        "X = tokenizer.texts_to_sequences(data['text'].values)"
      ],
      "execution_count": null,
      "outputs": []
    },
    {
      "cell_type": "code",
      "metadata": {
        "id": "26-W9Q2ysgVH"
      },
      "source": [
        "# tokenizer.get_config()\n",
        "# Returns the tokenizer configuration as Python dictionary.\n",
        "print(tokenizer.get_config().keys())\n",
        "\n",
        "# word_counts: A dictionary of words and their counts.\n",
        "print(\"\\ntokenizer.word_counts\") \n",
        "print(tokenizer.word_counts) \n",
        "\n",
        "# document_count:An integer count of the total number of documents that were used to fit the Tokenizer.\n",
        "print(\"\\ntokenizer.document_count\")\n",
        "print(tokenizer.document_count) \n",
        "\n",
        "# word_index: A dictionary of words and their uniquely assigned integers.\n",
        "print(\"\\ntokenizer.word_index\")\n",
        "print(tokenizer.word_index)\n",
        "\n",
        "# word_docs: A dictionary of words and how many documents each appeared in.\n",
        "print(\"\\ntokenizer.word_docs\")\n",
        "print(tokenizer.word_docs)\n",
        "\n",
        "\n",
        "\n",
        "print('\\nLen() of X:', len(X))\n",
        "print('\\n', X[:2])"
      ],
      "execution_count": null,
      "outputs": []
    },
    {
      "cell_type": "code",
      "metadata": {
        "id": "47F7jDw828GN"
      },
      "source": [
        "# Check the sequence of the text, Do we need to Pad ??\n",
        "for i in range(4):\n",
        "  print(X[i])\n",
        "  print('len=', len(X[i]))"
      ],
      "execution_count": null,
      "outputs": []
    },
    {
      "cell_type": "code",
      "metadata": {
        "id": "QdrxG9Kssfnj"
      },
      "source": [
        "X = pad_sequences(X) # Pads sequences to the same length.\n",
        "print('X.shape = ', X.shape)"
      ],
      "execution_count": null,
      "outputs": []
    },
    {
      "cell_type": "code",
      "metadata": {
        "id": "F-kjauLe47mW"
      },
      "source": [
        "# Check the sequence after padding, Which padding pre or post??\n",
        "for i in range(4):\n",
        "  print(X[i])\n",
        "  print('len=', len(X[i]))"
      ],
      "execution_count": null,
      "outputs": []
    },
    {
      "cell_type": "code",
      "metadata": {
        "id": "t8b9O4zfVU0f"
      },
      "source": [
        "embed_dim = 128\n",
        "lstm_out = 196\n",
        "\n",
        "def createmodel():\n",
        "    model = Sequential()\n",
        "    model.add(Embedding(max_fatures, embed_dim, input_length = X.shape[1]))\n",
        "    model.add(LSTM(lstm_out, dropout=0.2, recurrent_dropout=0.2))\n",
        "    model.add(Dense(3,activation='softmax'))\n",
        "    model.compile(loss = 'categorical_crossentropy', optimizer='adam',metrics = ['accuracy'])\n",
        "    model.summary()\n",
        "    return model"
      ],
      "execution_count": null,
      "outputs": []
    },
    {
      "cell_type": "code",
      "metadata": {
        "id": "dKOVUeyJVWcZ"
      },
      "source": [
        "labelencoder = LabelEncoder()\n",
        "integer_encoded = labelencoder.fit_transform(data['sentiment'])\n",
        "y = to_categorical(integer_encoded)\n",
        "\n",
        "X_train, X_test, Y_train, Y_test = train_test_split(X,y, test_size = 0.33, random_state = 42)"
      ],
      "execution_count": null,
      "outputs": []
    },
    {
      "cell_type": "code",
      "metadata": {
        "id": "_gyUU0LtVYIC"
      },
      "source": [
        "model = createmodel()"
      ],
      "execution_count": null,
      "outputs": []
    },
    {
      "cell_type": "code",
      "metadata": {
        "id": "Dja3TcIY5oMT"
      },
      "source": [
        "batch_size = 32\n",
        "model.fit(X_train, Y_train, epochs = 7, batch_size=batch_size, verbose = 1)\n",
        "score,acc = model.evaluate(X_test,Y_test,verbose=2,batch_size=batch_size)\n",
        "print(score)\n",
        "print(acc)\n",
        "print(model.metrics_names)"
      ],
      "execution_count": null,
      "outputs": []
    },
    {
      "cell_type": "code",
      "metadata": {
        "id": "dzy_XLNW2xGw"
      },
      "source": [
        ""
      ],
      "execution_count": null,
      "outputs": []
    }
  ]
}